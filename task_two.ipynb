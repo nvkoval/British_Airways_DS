{
 "cells": [
  {
   "cell_type": "markdown",
   "metadata": {},
   "source": [
    "# Task 2\n",
    "\n",
    "---\n",
    "\n",
    "## Predictive modeling of customer bookings"
   ]
  },
  {
   "cell_type": "code",
   "execution_count": 1,
   "metadata": {},
   "outputs": [],
   "source": [
    "import numpy as np\n",
    "import pandas as pd\n",
    "import matplotlib.pyplot as plt\n",
    "import seaborn as sns\n",
    "\n",
    "from sklearn.ensemble import RandomForestClassifier, ExtraTreesClassifier\n",
    "from sklearn.compose import make_column_transformer\n",
    "from sklearn.metrics import ConfusionMatrixDisplay\n",
    "from sklearn.metrics import classification_report\n",
    "from sklearn.model_selection import train_test_split, cross_val_score\n",
    "from sklearn.model_selection import StratifiedKFold\n",
    "from sklearn.pipeline import make_pipeline\n",
    "from sklearn.preprocessing import OrdinalEncoder, OneHotEncoder\n",
    "from tqdm import tqdm\n",
    "\n",
    "from geopy.geocoders import Nominatim\n",
    "from geopy.extra.rate_limiter import RateLimiter\n",
    "\n",
    "import airportsdata\n",
    "import eli5\n",
    "\n",
    "COLOR_FONT = 'dimgray'\n",
    "COLOR_PLOT = 'tan'\n",
    "\n",
    "plt.rcParams.update(\n",
    "    {\n",
    "        'text.color': COLOR_FONT,\n",
    "        'axes.edgecolor': COLOR_FONT,\n",
    "        'axes.labelcolor': COLOR_FONT,\n",
    "        'axes.titlecolor': COLOR_FONT,\n",
    "        'axes.titlesize': 14,\n",
    "        'xtick.color': COLOR_FONT,\n",
    "        'ytick.color': COLOR_FONT,\n",
    "        'xtick.bottom': False,\n",
    "        'ytick.left': False,\n",
    "    }\n",
    ")"
   ]
  },
  {
   "cell_type": "code",
   "execution_count": 2,
   "metadata": {},
   "outputs": [
    {
     "data": {
      "text/html": [
       "<div>\n",
       "<style scoped>\n",
       "    .dataframe tbody tr th:only-of-type {\n",
       "        vertical-align: middle;\n",
       "    }\n",
       "\n",
       "    .dataframe tbody tr th {\n",
       "        vertical-align: top;\n",
       "    }\n",
       "\n",
       "    .dataframe thead th {\n",
       "        text-align: right;\n",
       "    }\n",
       "</style>\n",
       "<table border=\"1\" class=\"dataframe\">\n",
       "  <thead>\n",
       "    <tr style=\"text-align: right;\">\n",
       "      <th></th>\n",
       "      <th>num_passengers</th>\n",
       "      <th>sales_channel</th>\n",
       "      <th>trip_type</th>\n",
       "      <th>purchase_lead</th>\n",
       "      <th>length_of_stay</th>\n",
       "      <th>flight_hour</th>\n",
       "      <th>flight_day</th>\n",
       "      <th>route</th>\n",
       "      <th>booking_origin</th>\n",
       "      <th>wants_extra_baggage</th>\n",
       "      <th>wants_preferred_seat</th>\n",
       "      <th>wants_in_flight_meals</th>\n",
       "      <th>flight_duration</th>\n",
       "      <th>booking_complete</th>\n",
       "    </tr>\n",
       "  </thead>\n",
       "  <tbody>\n",
       "    <tr>\n",
       "      <th>0</th>\n",
       "      <td>2</td>\n",
       "      <td>Internet</td>\n",
       "      <td>RoundTrip</td>\n",
       "      <td>262</td>\n",
       "      <td>19</td>\n",
       "      <td>7</td>\n",
       "      <td>Sat</td>\n",
       "      <td>AKLDEL</td>\n",
       "      <td>New Zealand</td>\n",
       "      <td>1</td>\n",
       "      <td>0</td>\n",
       "      <td>0</td>\n",
       "      <td>5.52</td>\n",
       "      <td>0</td>\n",
       "    </tr>\n",
       "    <tr>\n",
       "      <th>1</th>\n",
       "      <td>1</td>\n",
       "      <td>Internet</td>\n",
       "      <td>RoundTrip</td>\n",
       "      <td>112</td>\n",
       "      <td>20</td>\n",
       "      <td>3</td>\n",
       "      <td>Sat</td>\n",
       "      <td>AKLDEL</td>\n",
       "      <td>New Zealand</td>\n",
       "      <td>0</td>\n",
       "      <td>0</td>\n",
       "      <td>0</td>\n",
       "      <td>5.52</td>\n",
       "      <td>0</td>\n",
       "    </tr>\n",
       "    <tr>\n",
       "      <th>2</th>\n",
       "      <td>2</td>\n",
       "      <td>Internet</td>\n",
       "      <td>RoundTrip</td>\n",
       "      <td>243</td>\n",
       "      <td>22</td>\n",
       "      <td>17</td>\n",
       "      <td>Wed</td>\n",
       "      <td>AKLDEL</td>\n",
       "      <td>India</td>\n",
       "      <td>1</td>\n",
       "      <td>1</td>\n",
       "      <td>0</td>\n",
       "      <td>5.52</td>\n",
       "      <td>0</td>\n",
       "    </tr>\n",
       "    <tr>\n",
       "      <th>3</th>\n",
       "      <td>1</td>\n",
       "      <td>Internet</td>\n",
       "      <td>RoundTrip</td>\n",
       "      <td>96</td>\n",
       "      <td>31</td>\n",
       "      <td>4</td>\n",
       "      <td>Sat</td>\n",
       "      <td>AKLDEL</td>\n",
       "      <td>New Zealand</td>\n",
       "      <td>0</td>\n",
       "      <td>0</td>\n",
       "      <td>1</td>\n",
       "      <td>5.52</td>\n",
       "      <td>0</td>\n",
       "    </tr>\n",
       "    <tr>\n",
       "      <th>4</th>\n",
       "      <td>2</td>\n",
       "      <td>Internet</td>\n",
       "      <td>RoundTrip</td>\n",
       "      <td>68</td>\n",
       "      <td>22</td>\n",
       "      <td>15</td>\n",
       "      <td>Wed</td>\n",
       "      <td>AKLDEL</td>\n",
       "      <td>India</td>\n",
       "      <td>1</td>\n",
       "      <td>0</td>\n",
       "      <td>1</td>\n",
       "      <td>5.52</td>\n",
       "      <td>0</td>\n",
       "    </tr>\n",
       "  </tbody>\n",
       "</table>\n",
       "</div>"
      ],
      "text/plain": [
       "   num_passengers sales_channel  trip_type  purchase_lead  length_of_stay  \\\n",
       "0               2      Internet  RoundTrip            262              19   \n",
       "1               1      Internet  RoundTrip            112              20   \n",
       "2               2      Internet  RoundTrip            243              22   \n",
       "3               1      Internet  RoundTrip             96              31   \n",
       "4               2      Internet  RoundTrip             68              22   \n",
       "\n",
       "   flight_hour flight_day   route booking_origin  wants_extra_baggage  \\\n",
       "0            7        Sat  AKLDEL    New Zealand                    1   \n",
       "1            3        Sat  AKLDEL    New Zealand                    0   \n",
       "2           17        Wed  AKLDEL          India                    1   \n",
       "3            4        Sat  AKLDEL    New Zealand                    0   \n",
       "4           15        Wed  AKLDEL          India                    1   \n",
       "\n",
       "   wants_preferred_seat  wants_in_flight_meals  flight_duration  \\\n",
       "0                     0                      0             5.52   \n",
       "1                     0                      0             5.52   \n",
       "2                     1                      0             5.52   \n",
       "3                     0                      1             5.52   \n",
       "4                     0                      1             5.52   \n",
       "\n",
       "   booking_complete  \n",
       "0                 0  \n",
       "1                 0  \n",
       "2                 0  \n",
       "3                 0  \n",
       "4                 0  "
      ]
     },
     "execution_count": 2,
     "metadata": {},
     "output_type": "execute_result"
    }
   ],
   "source": [
    "df = pd.read_csv('./data/customer_booking.csv', encoding='ISO-8859-1')\n",
    "df.head()"
   ]
  },
  {
   "cell_type": "code",
   "execution_count": 3,
   "metadata": {},
   "outputs": [
    {
     "name": "stdout",
     "output_type": "stream",
     "text": [
      "<class 'pandas.core.frame.DataFrame'>\n",
      "RangeIndex: 50000 entries, 0 to 49999\n",
      "Data columns (total 14 columns):\n",
      " #   Column                 Non-Null Count  Dtype  \n",
      "---  ------                 --------------  -----  \n",
      " 0   num_passengers         50000 non-null  int64  \n",
      " 1   sales_channel          50000 non-null  object \n",
      " 2   trip_type              50000 non-null  object \n",
      " 3   purchase_lead          50000 non-null  int64  \n",
      " 4   length_of_stay         50000 non-null  int64  \n",
      " 5   flight_hour            50000 non-null  int64  \n",
      " 6   flight_day             50000 non-null  object \n",
      " 7   route                  50000 non-null  object \n",
      " 8   booking_origin         50000 non-null  object \n",
      " 9   wants_extra_baggage    50000 non-null  int64  \n",
      " 10  wants_preferred_seat   50000 non-null  int64  \n",
      " 11  wants_in_flight_meals  50000 non-null  int64  \n",
      " 12  flight_duration        50000 non-null  float64\n",
      " 13  booking_complete       50000 non-null  int64  \n",
      "dtypes: float64(1), int64(8), object(5)\n",
      "memory usage: 5.3+ MB\n"
     ]
    }
   ],
   "source": [
    "df.info()"
   ]
  },
  {
   "cell_type": "markdown",
   "metadata": {},
   "source": [
    "To provide more context, below is a more detailed data description, explaining exactly what each column means:\n",
    "\n",
    "- `num_passengers` = number of passengers travelling\n",
    "- `sales_channel` = sales channel booking was made on\n",
    "- `trip_type` = trip Type (Round Trip, One Way, Circle Trip)\n",
    "- `purchase_lead` = number of days between travel date and booking date\n",
    "- `length_of_stay` = number of days spent at destination\n",
    "- `flight_hour` = hour of flight departure\n",
    "- `flight_day` = day of week of flight departure\n",
    "- `route` = origin -> destination flight route\n",
    "- `booking_origin` = country from where booking was made\n",
    "- `wants_extra_baggage` = if the customer wanted extra baggage in the booking\n",
    "- `wants_preferred_seat` = if the customer wanted a preferred seat in the booking\n",
    "- `wants_in_flight_meals` = if the customer wanted in-flight meals in the booking\n",
    "- `flight_duration` = total duration of flight (in hours)\n",
    "- `booking_complete` = flag indicating if the customer completed the booking\n",
    "\n",
    "Before we compute any statistics on the data, lets do any necessary data conversion"
   ]
  },
  {
   "cell_type": "code",
   "execution_count": 4,
   "metadata": {},
   "outputs": [
    {
     "data": {
      "text/plain": [
       "array(['Sat', 'Wed', 'Thu', 'Mon', 'Sun', 'Tue', 'Fri'], dtype=object)"
      ]
     },
     "execution_count": 4,
     "metadata": {},
     "output_type": "execute_result"
    }
   ],
   "source": [
    "df['flight_day'].unique()"
   ]
  },
  {
   "cell_type": "code",
   "execution_count": 5,
   "metadata": {},
   "outputs": [],
   "source": [
    "mapping = {\n",
    "    'Mon': 1,\n",
    "    'Tue': 2,\n",
    "    'Wed': 3,\n",
    "    'Thu': 4,\n",
    "    'Fri': 5,\n",
    "    'Sat': 6,\n",
    "    'Sun': 7,\n",
    "}\n",
    "\n",
    "df['flight_day'] = df['flight_day'].map(mapping)"
   ]
  },
  {
   "cell_type": "code",
   "execution_count": 6,
   "metadata": {},
   "outputs": [
    {
     "data": {
      "text/plain": [
       "array([6, 3, 4, 1, 7, 2, 5], dtype=int64)"
      ]
     },
     "execution_count": 6,
     "metadata": {},
     "output_type": "execute_result"
    }
   ],
   "source": [
    "df['flight_day'].unique()"
   ]
  },
  {
   "cell_type": "markdown",
   "metadata": {},
   "source": [
    "Our goal is to predictis whether a customer will make a booking (`booking_complete`).\n",
    "\n",
    "Our plan: \n",
    "- encode categoracal features by using:\n",
    "    - LabelEncoder\n",
    "    - OneHot Encoder\n",
    "- feature engineering\n",
    "- feature importance \n",
    "\n"
   ]
  },
  {
   "cell_type": "code",
   "execution_count": 7,
   "metadata": {},
   "outputs": [
    {
     "data": {
      "text/plain": [
       "0    0.85044\n",
       "1    0.14956\n",
       "Name: booking_complete, dtype: float64"
      ]
     },
     "execution_count": 7,
     "metadata": {},
     "output_type": "execute_result"
    }
   ],
   "source": [
    "df['booking_complete'].value_counts(normalize=True)"
   ]
  },
  {
   "cell_type": "markdown",
   "metadata": {},
   "source": [
    "Only 15% of customer made a booking. \n",
    "\n",
    "Let's check for duplicates."
   ]
  },
  {
   "cell_type": "code",
   "execution_count": 8,
   "metadata": {},
   "outputs": [
    {
     "data": {
      "text/plain": [
       "719"
      ]
     },
     "execution_count": 8,
     "metadata": {},
     "output_type": "execute_result"
    }
   ],
   "source": [
    "sum(df.duplicated())"
   ]
  },
  {
   "cell_type": "markdown",
   "metadata": {},
   "source": [
    "There are 719 duplicates. Drop all this rows."
   ]
  },
  {
   "cell_type": "code",
   "execution_count": 9,
   "metadata": {},
   "outputs": [
    {
     "data": {
      "text/plain": [
       "(49281, 14)"
      ]
     },
     "execution_count": 9,
     "metadata": {},
     "output_type": "execute_result"
    }
   ],
   "source": [
    "df.drop_duplicates(inplace=True)\n",
    "df.shape"
   ]
  },
  {
   "cell_type": "markdown",
   "metadata": {},
   "source": [
    "#### Baseline Model"
   ]
  },
  {
   "cell_type": "markdown",
   "metadata": {},
   "source": [
    "Dataset is not too large and unbalanced, so we can use Stratified K-fold Cross-validation.\n",
    "\n",
    "There is no test dataset, so create it separating 20% from the dataset to run the model only once to find out the final result.\n",
    "\n",
    "Use the roc_auc metric because we need to identify the most promising clients for working with them."
   ]
  },
  {
   "cell_type": "code",
   "execution_count": 10,
   "metadata": {},
   "outputs": [
    {
     "data": {
      "text/plain": [
       "((39424, 13), (9857, 13))"
      ]
     },
     "execution_count": 10,
     "metadata": {},
     "output_type": "execute_result"
    }
   ],
   "source": [
    "X, y = df.drop('booking_complete', axis=1), df['booking_complete']\n",
    "\n",
    "X_train, X_test, y_train, y_test = train_test_split(\n",
    "    X, y, test_size=0.2, random_state=24, stratify=y\n",
    ")\n",
    "X_train.shape, X_test.shape"
   ]
  },
  {
   "cell_type": "code",
   "execution_count": 11,
   "metadata": {},
   "outputs": [],
   "source": [
    "def train_model(model, X, y):\n",
    "    skf = StratifiedKFold(n_splits=5, shuffle=True, random_state=24)\n",
    "    cv_score = np.mean(cross_val_score(model, X, y, cv=skf, scoring='roc_auc'))\n",
    "    print(f'roc_auc score: {cv_score}')"
   ]
  },
  {
   "cell_type": "code",
   "execution_count": 12,
   "metadata": {},
   "outputs": [
    {
     "name": "stdout",
     "output_type": "stream",
     "text": [
      "roc_auc score: 0.649695546189411\n"
     ]
    }
   ],
   "source": [
    "classifier = ExtraTreesClassifier(max_depth=7, random_state=24)\n",
    "\n",
    "train_model(classifier, X_train.select_dtypes('number'), y_train)"
   ]
  },
  {
   "cell_type": "code",
   "execution_count": 13,
   "metadata": {},
   "outputs": [
    {
     "name": "stdout",
     "output_type": "stream",
     "text": [
      "roc_auc score: 0.6762964062293414\n"
     ]
    }
   ],
   "source": [
    "classifier = RandomForestClassifier(max_depth=7, random_state=24)\n",
    "\n",
    "train_model(classifier, X_train.select_dtypes('number'), y_train)"
   ]
  },
  {
   "cell_type": "markdown",
   "metadata": {},
   "source": [
    "Calculate class weight for classifier model, becuase of unbalanced classes."
   ]
  },
  {
   "cell_type": "code",
   "execution_count": 14,
   "metadata": {},
   "outputs": [
    {
     "data": {
      "text/plain": [
       "0    41890\n",
       "1     7391\n",
       "Name: booking_complete, dtype: int64"
      ]
     },
     "execution_count": 14,
     "metadata": {},
     "output_type": "execute_result"
    }
   ],
   "source": [
    "df['booking_complete'].value_counts()"
   ]
  },
  {
   "cell_type": "code",
   "execution_count": 15,
   "metadata": {},
   "outputs": [
    {
     "name": "stdout",
     "output_type": "stream",
     "text": [
      "3.333851982140441\n",
      "0.5882191453807591\n"
     ]
    }
   ],
   "source": [
    "# class 1\n",
    "print(49281 / (2 * 7391))\n",
    "# class 0\n",
    "print(49281 / (2 * 41890))"
   ]
  },
  {
   "cell_type": "code",
   "execution_count": 16,
   "metadata": {},
   "outputs": [],
   "source": [
    "class_weight = {0: 0.6, 1: 3.3}"
   ]
  },
  {
   "cell_type": "code",
   "execution_count": 17,
   "metadata": {},
   "outputs": [
    {
     "name": "stdout",
     "output_type": "stream",
     "text": [
      "roc_auc score: 0.6776582562101762\n"
     ]
    }
   ],
   "source": [
    "classifier = RandomForestClassifier(\n",
    "    max_depth=7, random_state=24, class_weight=class_weight\n",
    ")\n",
    "\n",
    "train_model(classifier, X_train.select_dtypes('number'), y_train)"
   ]
  },
  {
   "cell_type": "code",
   "execution_count": 18,
   "metadata": {},
   "outputs": [
    {
     "data": {
      "text/html": [
       "\n",
       "    <style>\n",
       "    table.eli5-weights tr:hover {\n",
       "        filter: brightness(85%);\n",
       "    }\n",
       "</style>\n",
       "\n",
       "\n",
       "\n",
       "    \n",
       "\n",
       "    \n",
       "\n",
       "    \n",
       "\n",
       "    \n",
       "\n",
       "    \n",
       "\n",
       "    \n",
       "\n",
       "\n",
       "    \n",
       "\n",
       "    \n",
       "\n",
       "    \n",
       "\n",
       "    \n",
       "\n",
       "    \n",
       "\n",
       "    \n",
       "\n",
       "\n",
       "    \n",
       "\n",
       "    \n",
       "\n",
       "    \n",
       "\n",
       "    \n",
       "\n",
       "    \n",
       "        <table class=\"eli5-weights eli5-feature-importances\" style=\"border-collapse: collapse; border: none; margin-top: 0em; table-layout: auto;\">\n",
       "    <thead>\n",
       "    <tr style=\"border: none;\">\n",
       "        <th style=\"padding: 0 1em 0 0.5em; text-align: right; border: none;\">Weight</th>\n",
       "        <th style=\"padding: 0 0.5em 0 0.5em; text-align: left; border: none;\">Feature</th>\n",
       "    </tr>\n",
       "    </thead>\n",
       "    <tbody>\n",
       "    \n",
       "        <tr style=\"background-color: hsl(120, 100.00%, 80.00%); border: none;\">\n",
       "            <td style=\"padding: 0 1em 0 0.5em; text-align: right; border: none;\">\n",
       "                0.3301\n",
       "                \n",
       "                    &plusmn; 0.1465\n",
       "                \n",
       "            </td>\n",
       "            <td style=\"padding: 0 0.5em 0 0.5em; text-align: left; border: none;\">\n",
       "                flight_duration\n",
       "            </td>\n",
       "        </tr>\n",
       "    \n",
       "        <tr style=\"background-color: hsl(120, 100.00%, 82.03%); border: none;\">\n",
       "            <td style=\"padding: 0 1em 0 0.5em; text-align: right; border: none;\">\n",
       "                0.2833\n",
       "                \n",
       "                    &plusmn; 0.1213\n",
       "                \n",
       "            </td>\n",
       "            <td style=\"padding: 0 0.5em 0 0.5em; text-align: left; border: none;\">\n",
       "                length_of_stay\n",
       "            </td>\n",
       "        </tr>\n",
       "    \n",
       "        <tr style=\"background-color: hsl(120, 100.00%, 89.94%); border: none;\">\n",
       "            <td style=\"padding: 0 1em 0 0.5em; text-align: right; border: none;\">\n",
       "                0.1237\n",
       "                \n",
       "                    &plusmn; 0.0657\n",
       "                \n",
       "            </td>\n",
       "            <td style=\"padding: 0 0.5em 0 0.5em; text-align: left; border: none;\">\n",
       "                wants_extra_baggage\n",
       "            </td>\n",
       "        </tr>\n",
       "    \n",
       "        <tr style=\"background-color: hsl(120, 100.00%, 91.88%); border: none;\">\n",
       "            <td style=\"padding: 0 1em 0 0.5em; text-align: right; border: none;\">\n",
       "                0.0911\n",
       "                \n",
       "                    &plusmn; 0.0470\n",
       "                \n",
       "            </td>\n",
       "            <td style=\"padding: 0 0.5em 0 0.5em; text-align: left; border: none;\">\n",
       "                purchase_lead\n",
       "            </td>\n",
       "        </tr>\n",
       "    \n",
       "        <tr style=\"background-color: hsl(120, 100.00%, 93.68%); border: none;\">\n",
       "            <td style=\"padding: 0 1em 0 0.5em; text-align: right; border: none;\">\n",
       "                0.0637\n",
       "                \n",
       "                    &plusmn; 0.0342\n",
       "                \n",
       "            </td>\n",
       "            <td style=\"padding: 0 0.5em 0 0.5em; text-align: left; border: none;\">\n",
       "                flight_hour\n",
       "            </td>\n",
       "        </tr>\n",
       "    \n",
       "        <tr style=\"background-color: hsl(120, 100.00%, 95.88%); border: none;\">\n",
       "            <td style=\"padding: 0 1em 0 0.5em; text-align: right; border: none;\">\n",
       "                0.0346\n",
       "                \n",
       "                    &plusmn; 0.0321\n",
       "                \n",
       "            </td>\n",
       "            <td style=\"padding: 0 0.5em 0 0.5em; text-align: left; border: none;\">\n",
       "                wants_preferred_seat\n",
       "            </td>\n",
       "        </tr>\n",
       "    \n",
       "        <tr style=\"background-color: hsl(120, 100.00%, 96.61%); border: none;\">\n",
       "            <td style=\"padding: 0 1em 0 0.5em; text-align: right; border: none;\">\n",
       "                0.0262\n",
       "                \n",
       "                    &plusmn; 0.0279\n",
       "                \n",
       "            </td>\n",
       "            <td style=\"padding: 0 0.5em 0 0.5em; text-align: left; border: none;\">\n",
       "                wants_in_flight_meals\n",
       "            </td>\n",
       "        </tr>\n",
       "    \n",
       "        <tr style=\"background-color: hsl(120, 100.00%, 96.61%); border: none;\">\n",
       "            <td style=\"padding: 0 1em 0 0.5em; text-align: right; border: none;\">\n",
       "                0.0261\n",
       "                \n",
       "                    &plusmn; 0.0179\n",
       "                \n",
       "            </td>\n",
       "            <td style=\"padding: 0 0.5em 0 0.5em; text-align: left; border: none;\">\n",
       "                flight_day\n",
       "            </td>\n",
       "        </tr>\n",
       "    \n",
       "        <tr style=\"background-color: hsl(120, 100.00%, 97.08%); border: none;\">\n",
       "            <td style=\"padding: 0 1em 0 0.5em; text-align: right; border: none;\">\n",
       "                0.0212\n",
       "                \n",
       "                    &plusmn; 0.0167\n",
       "                \n",
       "            </td>\n",
       "            <td style=\"padding: 0 0.5em 0 0.5em; text-align: left; border: none;\">\n",
       "                num_passengers\n",
       "            </td>\n",
       "        </tr>\n",
       "    \n",
       "    \n",
       "    </tbody>\n",
       "</table>\n",
       "    \n",
       "\n",
       "    \n",
       "\n",
       "\n",
       "    \n",
       "\n",
       "    \n",
       "\n",
       "    \n",
       "\n",
       "    \n",
       "\n",
       "    \n",
       "\n",
       "    \n",
       "\n",
       "\n",
       "\n"
      ],
      "text/plain": [
       "<IPython.core.display.HTML object>"
      ]
     },
     "execution_count": 18,
     "metadata": {},
     "output_type": "execute_result"
    }
   ],
   "source": [
    "classifier.fit(X_train.select_dtypes('number'), y_train)\n",
    "eli5.show_weights(\n",
    "    classifier, feature_names=X_train.select_dtypes('number').columns.values\n",
    ")"
   ]
  },
  {
   "cell_type": "markdown",
   "metadata": {},
   "source": [
    "We'll choose the RandomForestClassifier model with weighted classes as the baseline model. \n",
    "\n",
    "The most importance features are `flight_duration` and `length_of_stay`."
   ]
  },
  {
   "cell_type": "markdown",
   "metadata": {},
   "source": [
    "#### Encoding the categorical features"
   ]
  },
  {
   "cell_type": "code",
   "execution_count": 19,
   "metadata": {},
   "outputs": [
    {
     "data": {
      "text/plain": [
       "['sales_channel', 'trip_type', 'route', 'booking_origin']"
      ]
     },
     "execution_count": 19,
     "metadata": {},
     "output_type": "execute_result"
    }
   ],
   "source": [
    "categorical_features = X_train.select_dtypes('object').columns.to_list()\n",
    "categorical_features"
   ]
  },
  {
   "cell_type": "code",
   "execution_count": 20,
   "metadata": {},
   "outputs": [
    {
     "name": "stdout",
     "output_type": "stream",
     "text": [
      "roc_auc score: 0.7652958000239463\n"
     ]
    }
   ],
   "source": [
    "model = make_pipeline(\n",
    "    make_column_transformer(\n",
    "        (OneHotEncoder(handle_unknown='ignore'), categorical_features),\n",
    "        remainder='passthrough',\n",
    "        verbose_feature_names_out=False,\n",
    "    ),\n",
    "    RandomForestClassifier(max_depth=7,\n",
    "                           random_state=24,\n",
    "                           class_weight=class_weight),\n",
    ")\n",
    "\n",
    "train_model(model, X_train, y_train)"
   ]
  },
  {
   "cell_type": "code",
   "execution_count": 21,
   "metadata": {},
   "outputs": [
    {
     "name": "stdout",
     "output_type": "stream",
     "text": [
      "roc_auc score: 0.7566633567174983\n"
     ]
    }
   ],
   "source": [
    "model = make_pipeline(\n",
    "    make_column_transformer(\n",
    "        (\n",
    "            OrdinalEncoder(handle_unknown='use_encoded_value', unknown_value=-1),\n",
    "            categorical_features,\n",
    "        ),\n",
    "        remainder='passthrough',\n",
    "        verbose_feature_names_out=False,\n",
    "    ),\n",
    "    RandomForestClassifier(max_depth=7,\n",
    "                           random_state=24,\n",
    "                           class_weight=class_weight),\n",
    ")\n",
    "\n",
    "train_model(model, X_train, y_train)"
   ]
  },
  {
   "cell_type": "markdown",
   "metadata": {},
   "source": [
    "The OneHotEncoder gives better result."
   ]
  },
  {
   "cell_type": "markdown",
   "metadata": {},
   "source": [
    "### Feature Engineering"
   ]
  },
  {
   "cell_type": "code",
   "execution_count": 22,
   "metadata": {},
   "outputs": [
    {
     "name": "stdout",
     "output_type": "stream",
     "text": [
      "sales_channel \n",
      " Internet    43917\n",
      "Mobile       5364\n",
      "Name: sales_channel, dtype: int64 \n",
      "\n",
      "trip_type \n",
      " RoundTrip     48779\n",
      "OneWay          386\n",
      "CircleTrip      116\n",
      "Name: trip_type, dtype: int64 \n",
      "\n",
      "route \n",
      " AKLKUL    2620\n",
      "PENTPE     912\n",
      "MELSGN     833\n",
      "ICNSIN     793\n",
      "DMKKIX     729\n",
      "          ... \n",
      "AKLHGH       1\n",
      "JEDPDG       1\n",
      "JEDPEN       1\n",
      "DACPEK       1\n",
      "MRUXIY       1\n",
      "Name: route, Length: 799, dtype: int64 \n",
      "\n",
      "booking_origin \n",
      " Australia               17691\n",
      "Malaysia                 7055\n",
      "South Korea              4502\n",
      "Japan                    3819\n",
      "China                    3284\n",
      "                        ...  \n",
      "Panama                      1\n",
      "Tonga                       1\n",
      "Tanzania                    1\n",
      "Bulgaria                    1\n",
      "Svalbard & Jan Mayen        1\n",
      "Name: booking_origin, Length: 104, dtype: int64 \n",
      "\n"
     ]
    }
   ],
   "source": [
    "for feat in categorical_features:\n",
    "    print(feat, '\\n', df[feat].value_counts(), '\\n')"
   ]
  },
  {
   "cell_type": "markdown",
   "metadata": {},
   "source": [
    "Create two separate columns with route origin and destination instead of one `route`. "
   ]
  },
  {
   "cell_type": "code",
   "execution_count": 23,
   "metadata": {},
   "outputs": [
    {
     "data": {
      "text/plain": [
       "DMK    3698\n",
       "ICN    3681\n",
       "MEL    3427\n",
       "DPS    2840\n",
       "AKL    2788\n",
       "       ... \n",
       "CSX       4\n",
       "NRT       2\n",
       "CXR       1\n",
       "BTJ       1\n",
       "URT       1\n",
       "Name: route_origin, Length: 85, dtype: int64"
      ]
     },
     "execution_count": 23,
     "metadata": {},
     "output_type": "execute_result"
    }
   ],
   "source": [
    "df['route_origin'] = df['route'].str[:3]\n",
    "df['route_origin'].value_counts()"
   ]
  },
  {
   "cell_type": "code",
   "execution_count": 24,
   "metadata": {},
   "outputs": [
    {
     "data": {
      "text/plain": [
       "SYD    6543\n",
       "PER    4940\n",
       "MEL    4392\n",
       "TPE    3989\n",
       "OOL    2776\n",
       "       ... \n",
       "SWA       3\n",
       "NRT       1\n",
       "PDG       1\n",
       "LBU       1\n",
       "SRG       1\n",
       "Name: route_destination, Length: 64, dtype: int64"
      ]
     },
     "execution_count": 24,
     "metadata": {},
     "output_type": "execute_result"
    }
   ],
   "source": [
    "df['route_destination'] = df['route'].str[-3:]\n",
    "df['route_destination'].value_counts()"
   ]
  },
  {
   "cell_type": "markdown",
   "metadata": {},
   "source": [
    "Look at column `booking_origin`"
   ]
  },
  {
   "cell_type": "code",
   "execution_count": 25,
   "metadata": {},
   "outputs": [
    {
     "data": {
      "text/plain": [
       "Australia               17691\n",
       "Malaysia                 7055\n",
       "South Korea              4502\n",
       "Japan                    3819\n",
       "China                    3284\n",
       "                        ...  \n",
       "Panama                      1\n",
       "Tonga                       1\n",
       "Tanzania                    1\n",
       "Bulgaria                    1\n",
       "Svalbard & Jan Mayen        1\n",
       "Name: booking_origin, Length: 104, dtype: int64"
      ]
     },
     "execution_count": 25,
     "metadata": {},
     "output_type": "execute_result"
    }
   ],
   "source": [
    "df['booking_origin'].value_counts(dropna=False)"
   ]
  },
  {
   "cell_type": "code",
   "execution_count": 26,
   "metadata": {},
   "outputs": [
    {
     "data": {
      "image/png": "[encoded data removed]",
      "text/plain": [
       "<Figure size 1500x700 with 1 Axes>"
      ]
     },
     "metadata": {},
     "output_type": "display_data"
    }
   ],
   "source": [
    "df_plot = (\n",
    "    df.groupby(['booking_origin', 'booking_complete'])['booking_complete']\n",
    "    .agg('count')\n",
    "    .unstack()\n",
    "    .fillna(0)\n",
    ")\n",
    "\n",
    "df_plot.plot(figsize=(15, 7))\n",
    "\n",
    "plt.xticks(rotation=90)\n",
    "plt.show()"
   ]
  },
  {
   "cell_type": "code",
   "execution_count": 27,
   "metadata": {},
   "outputs": [
    {
     "data": {
      "text/plain": [
       "Malaysia       2434\n",
       "Australia       895\n",
       "China           684\n",
       "Indonesia       609\n",
       "Japan           472\n",
       "Thailand        464\n",
       "South Korea     459\n",
       "Singapore       295\n",
       "Taiwan          220\n",
       "India           128\n",
       "Name: booking_origin, dtype: int64"
      ]
     },
     "execution_count": 27,
     "metadata": {},
     "output_type": "execute_result"
    }
   ],
   "source": [
    "df[df['booking_complete'] == 1]['booking_origin'].value_counts()[:10]"
   ]
  },
  {
   "cell_type": "code",
   "execution_count": 28,
   "metadata": {},
   "outputs": [
    {
     "data": {
      "text/plain": [
       "Australia      16796\n",
       "Malaysia        4621\n",
       "South Korea     4043\n",
       "Japan           3347\n",
       "China           2600\n",
       "Taiwan          1822\n",
       "Indonesia       1708\n",
       "Thailand        1529\n",
       "India           1130\n",
       "New Zealand     1007\n",
       "Name: booking_origin, dtype: int64"
      ]
     },
     "execution_count": 28,
     "metadata": {},
     "output_type": "execute_result"
    }
   ],
   "source": [
    "df[df['booking_complete'] == 0]['booking_origin'].value_counts()[:10]"
   ]
  },
  {
   "cell_type": "markdown",
   "metadata": {},
   "source": [
    "Let's transform countries to their geocoordinates. "
   ]
  },
  {
   "cell_type": "code",
   "execution_count": 29,
   "metadata": {},
   "outputs": [
    {
     "name": "stderr",
     "output_type": "stream",
     "text": [
      "100%|██████████| 104/104 [00:54<00:00,  1.92it/s]\n"
     ]
    }
   ],
   "source": [
    "geolocator = Nominatim(user_agent='my_request')\n",
    "geocode = RateLimiter(geolocator.geocode, min_delay_seconds=0.3)\n",
    "\n",
    "country_coordinates = {}\n",
    "for country in tqdm(df['booking_origin'].unique()):\n",
    "    try:\n",
    "        location = geolocator.geocode(country)\n",
    "        country_coordinates[country] = location.latitude, location.longitude\n",
    "    except:\n",
    "        country_coordinates[country] = None, None"
   ]
  },
  {
   "cell_type": "code",
   "execution_count": 30,
   "metadata": {},
   "outputs": [
    {
     "data": {
      "text/plain": [
       "{'New Zealand': (-41.5000831, 172.8344077),\n",
       " 'India': (22.3511148, 78.6677428),\n",
       " 'United Kingdom': (54.7023545, -3.2765753),\n",
       " 'China': (35.000074, 104.999927),\n",
       " 'South Korea': (36.638392, 127.6961188),\n",
       " 'Japan': (36.5748441, 139.2394179),\n",
       " 'Malaysia': (4.5693754, 102.2656823),\n",
       " 'Singapore': (1.357107, 103.8194992),\n",
       " 'Switzerland': (46.7985624, 8.2319736),\n",
       " 'Germany': (51.1638175, 10.4478313),\n",
       " 'Indonesia': (-2.4833826, 117.8902853),\n",
       " 'Czech Republic': (49.7439047, 15.3381061),\n",
       " 'Vietnam': (15.9266657, 107.9650855),\n",
       " 'Thailand': (7.4931858, 124.724704),\n",
       " 'Spain': (39.3260685, -4.8379791),\n",
       " 'Romania': (45.9852129, 24.6859225),\n",
       " 'Ireland': (52.865196, -7.9794599),\n",
       " 'Italy': (42.6384261, 12.674297),\n",
       " 'Slovakia': (48.7411522, 19.4528646),\n",
       " 'United Arab Emirates': (24.0002488, 53.9994829),\n",
       " 'Tonga': (-19.9160819, -175.202642),\n",
       " 'Réunion': (-21.1309332, 55.5265771),\n",
       " '(not set)': (9.326573849999999, 76.5380997348222),\n",
       " 'Saudi Arabia': (25.6242618, 42.3528328),\n",
       " 'Netherlands': (52.2434979, 5.6343227),\n",
       " 'Qatar': (25.3336984, 51.2295295),\n",
       " 'Hong Kong': (22.2793278, 114.1628131),\n",
       " 'Philippines': (12.7503486, 122.7312101),\n",
       " 'Sri Lanka': (7.5554942, 80.7137847),\n",
       " 'France': (46.603354, 1.8883335),\n",
       " 'Croatia': (45.3658443, 15.6575209),\n",
       " 'United States': (39.7837304, -100.445882),\n",
       " 'Laos': (20.0171109, 103.378253),\n",
       " 'Hungary': (47.1817585, 19.5060937),\n",
       " 'Portugal': (39.6621648, -8.1353519),\n",
       " 'Cyprus': (34.9174159, 32.889902651331866),\n",
       " 'Australia': (-24.7761086, 134.755),\n",
       " 'Cambodia': (12.5433216, 104.8144914),\n",
       " 'Poland': (52.215933, 19.134422),\n",
       " 'Belgium': (50.6402809, 4.6667145),\n",
       " 'Oman': (21.0000287, 57.0036901),\n",
       " 'Bangladesh': (-0.2864982, 36.0514231),\n",
       " 'Kazakhstan': (48.1012954, 66.7780818),\n",
       " 'Brazil': (-10.3333333, -53.2),\n",
       " 'Turkey': (38.9597594, 34.9249653),\n",
       " 'Kenya': (1.4419683, 38.4313975),\n",
       " 'Taiwan': (23.5983227, 120.83537694479215),\n",
       " 'Brunei': (4.4137155, 114.5653908),\n",
       " 'Chile': (-31.7613365, -71.3187697),\n",
       " 'Bulgaria': (42.6073975, 25.4856617),\n",
       " 'Ukraine': (49.4871968, 31.2718321),\n",
       " 'Denmark': (55.670249, 10.3333283),\n",
       " 'Colombia': (4.099917, -72.9088133),\n",
       " 'Iran': (32.6475314, 54.5643516),\n",
       " 'Bahrain': (26.1551249, 50.5344606),\n",
       " 'Solomon Islands': (-8.7053941, 159.1070693851845),\n",
       " 'Slovenia': (46.1199444, 14.8153333),\n",
       " 'Mauritius': (-20.2759451, 57.5703566),\n",
       " 'Nepal': (28.3780464, 83.9999901),\n",
       " 'Russia': (64.6863136, 97.7453061),\n",
       " 'Kuwait': (29.3796532, 47.9734174),\n",
       " 'Mexico': (19.4326296, -99.1331785),\n",
       " 'Sweden': (59.6749712, 14.5208584),\n",
       " 'Austria': (47.59397, 14.12456),\n",
       " 'Lebanon': (40.375713, -76.4626118),\n",
       " 'Jordan': (44.6663146, -93.6261918),\n",
       " 'Greece': (43.2097838, -77.6930602),\n",
       " 'Mongolia': (43.9382593, -79.2235563),\n",
       " 'Canada': (61.0666922, -107.991707),\n",
       " 'Tanzania': (-6.5247123, 35.7878438),\n",
       " 'Peru': (-6.8699697, -75.0458515),\n",
       " 'Timor-Leste': (-8.7443169, 126.063482),\n",
       " 'Argentina': (-34.9964963, -64.9672817),\n",
       " 'New Caledonia': (-20.63784275, 161.21176261225781),\n",
       " 'Macau': (22.1757605, 113.5514142),\n",
       " 'Myanmar (Burma)': (17.1750495, 95.9999652),\n",
       " 'Norway': (64.5731537, 11.52803643954819),\n",
       " 'Panama': (8.559559, -81.1308434),\n",
       " 'Bhutan': (27.549511, 90.5119273),\n",
       " 'Norfolk Island': (-29.0328038, 167.9483137),\n",
       " 'Finland': (63.2467777, 25.9209164),\n",
       " 'Nicaragua': (12.6090157, -85.2936911),\n",
       " 'Maldives': (3.7203503, 73.2244152),\n",
       " 'Egypt': (26.2540493, 29.2675469),\n",
       " 'Israel': (30.8124247, 34.8594762),\n",
       " 'Tunisia': (36.8002068, 10.1857757),\n",
       " 'South Africa': (-28.8166236, 24.991639),\n",
       " 'Papua New Guinea': (-5.6816069, 144.2489081),\n",
       " 'Paraguay': (-23.3165935, -58.1693445),\n",
       " 'Estonia': (58.7523778, 25.3319078),\n",
       " 'Seychelles': (-4.6574977, 55.4540146),\n",
       " 'Afghanistan': (33.7680065, 66.2385139),\n",
       " 'Guam': (13.4499943, 144.7651677),\n",
       " 'Czechia': (49.7439047, 15.3381061),\n",
       " 'Malta': (35.8885993, 14.4476911),\n",
       " 'Vanuatu': (-16.5255069, 168.1069154),\n",
       " 'Belarus': (53.4250605, 27.6971358),\n",
       " 'Pakistan': (30.3308401, 71.247499),\n",
       " 'Iraq': (33.0955793, 44.1749775),\n",
       " 'Ghana': (8.0300284, -1.0800271),\n",
       " 'Gibraltar': (36.1285933, -5.3474761),\n",
       " 'Guatemala': (15.5855545, -90.345759),\n",
       " 'Algeria': (28.0000272, 2.9999825),\n",
       " 'Svalbard & Jan Mayen': (78.51240265, 16.605574070831505)}"
      ]
     },
     "execution_count": 30,
     "metadata": {},
     "output_type": "execute_result"
    }
   ],
   "source": [
    "country_coordinates"
   ]
  },
  {
   "cell_type": "code",
   "execution_count": 31,
   "metadata": {},
   "outputs": [],
   "source": [
    "country_coordinates['(not set)'] = 0, 0"
   ]
  },
  {
   "cell_type": "code",
   "execution_count": 32,
   "metadata": {},
   "outputs": [
    {
     "data": {
      "text/html": [
       "<div>\n",
       "<style scoped>\n",
       "    .dataframe tbody tr th:only-of-type {\n",
       "        vertical-align: middle;\n",
       "    }\n",
       "\n",
       "    .dataframe tbody tr th {\n",
       "        vertical-align: top;\n",
       "    }\n",
       "\n",
       "    .dataframe thead th {\n",
       "        text-align: right;\n",
       "    }\n",
       "</style>\n",
       "<table border=\"1\" class=\"dataframe\">\n",
       "  <thead>\n",
       "    <tr style=\"text-align: right;\">\n",
       "      <th></th>\n",
       "      <th>booking_origin_latitude</th>\n",
       "      <th>booking_origin_longitude</th>\n",
       "    </tr>\n",
       "  </thead>\n",
       "  <tbody>\n",
       "    <tr>\n",
       "      <th>0</th>\n",
       "      <td>-41.500083</td>\n",
       "      <td>172.834408</td>\n",
       "    </tr>\n",
       "    <tr>\n",
       "      <th>1</th>\n",
       "      <td>-41.500083</td>\n",
       "      <td>172.834408</td>\n",
       "    </tr>\n",
       "    <tr>\n",
       "      <th>2</th>\n",
       "      <td>22.351115</td>\n",
       "      <td>78.667743</td>\n",
       "    </tr>\n",
       "    <tr>\n",
       "      <th>3</th>\n",
       "      <td>-41.500083</td>\n",
       "      <td>172.834408</td>\n",
       "    </tr>\n",
       "    <tr>\n",
       "      <th>4</th>\n",
       "      <td>22.351115</td>\n",
       "      <td>78.667743</td>\n",
       "    </tr>\n",
       "    <tr>\n",
       "      <th>...</th>\n",
       "      <td>...</td>\n",
       "      <td>...</td>\n",
       "    </tr>\n",
       "    <tr>\n",
       "      <th>49995</th>\n",
       "      <td>-24.776109</td>\n",
       "      <td>134.755000</td>\n",
       "    </tr>\n",
       "    <tr>\n",
       "      <th>49996</th>\n",
       "      <td>-24.776109</td>\n",
       "      <td>134.755000</td>\n",
       "    </tr>\n",
       "    <tr>\n",
       "      <th>49997</th>\n",
       "      <td>-24.776109</td>\n",
       "      <td>134.755000</td>\n",
       "    </tr>\n",
       "    <tr>\n",
       "      <th>49998</th>\n",
       "      <td>-24.776109</td>\n",
       "      <td>134.755000</td>\n",
       "    </tr>\n",
       "    <tr>\n",
       "      <th>49999</th>\n",
       "      <td>-24.776109</td>\n",
       "      <td>134.755000</td>\n",
       "    </tr>\n",
       "  </tbody>\n",
       "</table>\n",
       "<p>49281 rows × 2 columns</p>\n",
       "</div>"
      ],
      "text/plain": [
       "       booking_origin_latitude  booking_origin_longitude\n",
       "0                   -41.500083                172.834408\n",
       "1                   -41.500083                172.834408\n",
       "2                    22.351115                 78.667743\n",
       "3                   -41.500083                172.834408\n",
       "4                    22.351115                 78.667743\n",
       "...                        ...                       ...\n",
       "49995               -24.776109                134.755000\n",
       "49996               -24.776109                134.755000\n",
       "49997               -24.776109                134.755000\n",
       "49998               -24.776109                134.755000\n",
       "49999               -24.776109                134.755000\n",
       "\n",
       "[49281 rows x 2 columns]"
      ]
     },
     "execution_count": 32,
     "metadata": {},
     "output_type": "execute_result"
    }
   ],
   "source": [
    "def get_coordinates(country):\n",
    "    lat = country_coordinates[country][0]\n",
    "    lon = country_coordinates[country][1]\n",
    "    return lat, lon\n",
    "\n",
    "\n",
    "df[['booking_origin_latitude', 'booking_origin_longitude']] = (\n",
    "    df['booking_origin'].apply(get_coordinates).apply(pd.Series)\n",
    ")\n",
    "\n",
    "df[['booking_origin_latitude', 'booking_origin_longitude']]"
   ]
  },
  {
   "cell_type": "code",
   "execution_count": 33,
   "metadata": {},
   "outputs": [],
   "source": [
    "del df['booking_origin'], df['route']"
   ]
  },
  {
   "cell_type": "code",
   "execution_count": 34,
   "metadata": {},
   "outputs": [
    {
     "data": {
      "text/plain": [
       "Index(['num_passengers', 'sales_channel', 'trip_type', 'purchase_lead',\n",
       "       'length_of_stay', 'flight_hour', 'flight_day', 'wants_extra_baggage',\n",
       "       'wants_preferred_seat', 'wants_in_flight_meals', 'flight_duration',\n",
       "       'booking_complete', 'route_origin', 'route_destination',\n",
       "       'booking_origin_latitude', 'booking_origin_longitude'],\n",
       "      dtype='object')"
      ]
     },
     "execution_count": 34,
     "metadata": {},
     "output_type": "execute_result"
    }
   ],
   "source": [
    "df.columns"
   ]
  },
  {
   "cell_type": "code",
   "execution_count": 35,
   "metadata": {},
   "outputs": [],
   "source": [
    "X, y = df.drop('booking_complete', axis=1), df['booking_complete']\n",
    "\n",
    "X_train, X_test, y_train, y_test = train_test_split(\n",
    "    X, y, test_size=0.2, random_state=24, stratify=y\n",
    ")\n",
    "\n",
    "categorical_features = X_train.select_dtypes('object').columns.to_list()"
   ]
  },
  {
   "cell_type": "code",
   "execution_count": 36,
   "metadata": {},
   "outputs": [
    {
     "name": "stdout",
     "output_type": "stream",
     "text": [
      "roc_auc score: 0.7679588768683641\n"
     ]
    }
   ],
   "source": [
    "model = make_pipeline(\n",
    "    make_column_transformer(\n",
    "        (OneHotEncoder(handle_unknown='ignore'), categorical_features),\n",
    "        remainder='passthrough',\n",
    "        verbose_feature_names_out=False,\n",
    "    ),\n",
    "    RandomForestClassifier(max_depth=7,\n",
    "                           random_state=24,\n",
    "                           class_weight=class_weight),\n",
    ")\n",
    "\n",
    "train_model(model, X_train, y_train)"
   ]
  },
  {
   "cell_type": "code",
   "execution_count": 37,
   "metadata": {},
   "outputs": [
    {
     "data": {
      "text/html": [
       "<div>\n",
       "<style scoped>\n",
       "    .dataframe tbody tr th:only-of-type {\n",
       "        vertical-align: middle;\n",
       "    }\n",
       "\n",
       "    .dataframe tbody tr th {\n",
       "        vertical-align: top;\n",
       "    }\n",
       "\n",
       "    .dataframe thead th {\n",
       "        text-align: right;\n",
       "    }\n",
       "</style>\n",
       "<table border=\"1\" class=\"dataframe\">\n",
       "  <thead>\n",
       "    <tr style=\"text-align: right;\">\n",
       "      <th></th>\n",
       "      <th>feature</th>\n",
       "      <th>weight</th>\n",
       "      <th>std</th>\n",
       "    </tr>\n",
       "  </thead>\n",
       "  <tbody>\n",
       "    <tr>\n",
       "      <th>0</th>\n",
       "      <td>booking_origin_longitude</td>\n",
       "      <td>0.313200</td>\n",
       "      <td>0.277171</td>\n",
       "    </tr>\n",
       "    <tr>\n",
       "      <th>1</th>\n",
       "      <td>booking_origin_latitude</td>\n",
       "      <td>0.202013</td>\n",
       "      <td>0.246381</td>\n",
       "    </tr>\n",
       "    <tr>\n",
       "      <th>2</th>\n",
       "      <td>flight_duration</td>\n",
       "      <td>0.064788</td>\n",
       "      <td>0.090637</td>\n",
       "    </tr>\n",
       "    <tr>\n",
       "      <th>3</th>\n",
       "      <td>length_of_stay</td>\n",
       "      <td>0.052547</td>\n",
       "      <td>0.071740</td>\n",
       "    </tr>\n",
       "    <tr>\n",
       "      <th>4</th>\n",
       "      <td>route_origin_PEN</td>\n",
       "      <td>0.037733</td>\n",
       "      <td>0.060179</td>\n",
       "    </tr>\n",
       "    <tr>\n",
       "      <th>5</th>\n",
       "      <td>wants_extra_baggage</td>\n",
       "      <td>0.034570</td>\n",
       "      <td>0.042875</td>\n",
       "    </tr>\n",
       "    <tr>\n",
       "      <th>6</th>\n",
       "      <td>route_destination_SYD</td>\n",
       "      <td>0.025539</td>\n",
       "      <td>0.044891</td>\n",
       "    </tr>\n",
       "    <tr>\n",
       "      <th>7</th>\n",
       "      <td>route_destination_PEN</td>\n",
       "      <td>0.020961</td>\n",
       "      <td>0.034708</td>\n",
       "    </tr>\n",
       "    <tr>\n",
       "      <th>8</th>\n",
       "      <td>purchase_lead</td>\n",
       "      <td>0.015399</td>\n",
       "      <td>0.013520</td>\n",
       "    </tr>\n",
       "    <tr>\n",
       "      <th>9</th>\n",
       "      <td>route_origin_CMB</td>\n",
       "      <td>0.014054</td>\n",
       "      <td>0.032105</td>\n",
       "    </tr>\n",
       "    <tr>\n",
       "      <th>10</th>\n",
       "      <td>wants_preferred_seat</td>\n",
       "      <td>0.013035</td>\n",
       "      <td>0.017929</td>\n",
       "    </tr>\n",
       "    <tr>\n",
       "      <th>11</th>\n",
       "      <td>route_origin_JHB</td>\n",
       "      <td>0.012174</td>\n",
       "      <td>0.024935</td>\n",
       "    </tr>\n",
       "    <tr>\n",
       "      <th>12</th>\n",
       "      <td>route_origin_DEL</td>\n",
       "      <td>0.012056</td>\n",
       "      <td>0.021738</td>\n",
       "    </tr>\n",
       "    <tr>\n",
       "      <th>13</th>\n",
       "      <td>route_destination_PER</td>\n",
       "      <td>0.010142</td>\n",
       "      <td>0.026292</td>\n",
       "    </tr>\n",
       "    <tr>\n",
       "      <th>14</th>\n",
       "      <td>route_origin_BKI</td>\n",
       "      <td>0.009190</td>\n",
       "      <td>0.016255</td>\n",
       "    </tr>\n",
       "  </tbody>\n",
       "</table>\n",
       "</div>"
      ],
      "text/plain": [
       "                     feature    weight       std\n",
       "0   booking_origin_longitude  0.313200  0.277171\n",
       "1    booking_origin_latitude  0.202013  0.246381\n",
       "2            flight_duration  0.064788  0.090637\n",
       "3             length_of_stay  0.052547  0.071740\n",
       "4           route_origin_PEN  0.037733  0.060179\n",
       "5        wants_extra_baggage  0.034570  0.042875\n",
       "6      route_destination_SYD  0.025539  0.044891\n",
       "7      route_destination_PEN  0.020961  0.034708\n",
       "8              purchase_lead  0.015399  0.013520\n",
       "9           route_origin_CMB  0.014054  0.032105\n",
       "10      wants_preferred_seat  0.013035  0.017929\n",
       "11          route_origin_JHB  0.012174  0.024935\n",
       "12          route_origin_DEL  0.012056  0.021738\n",
       "13     route_destination_PER  0.010142  0.026292\n",
       "14          route_origin_BKI  0.009190  0.016255"
      ]
     },
     "execution_count": 37,
     "metadata": {},
     "output_type": "execute_result"
    }
   ],
   "source": [
    "model.fit(X_train, y_train)\n",
    "explanation = eli5.explain_weights(\n",
    "    model[1], top=15, feature_names=model[0].get_feature_names_out()\n",
    ")\n",
    "df_feature_importance = eli5.format_as_dataframe(explanation)\n",
    "df_feature_importance"
   ]
  },
  {
   "cell_type": "code",
   "execution_count": 38,
   "metadata": {},
   "outputs": [
    {
     "data": {
      "image/png": "[encoded data removed]",
      "text/plain": [
       "<Figure size 600x500 with 1 Axes>"
      ]
     },
     "metadata": {},
     "output_type": "display_data"
    }
   ],
   "source": [
    "plt.figure(figsize=(6, 5))\n",
    "ax = sns.barplot(df_feature_importance, y='feature', x='weight', color=COLOR_PLOT)\n",
    "ax.spines[['top', 'right']].set_visible(False)\n",
    "plt.show()"
   ]
  },
  {
   "cell_type": "markdown",
   "metadata": {},
   "source": [
    "Let's combine two important features: `length_of_stay` and `flight_duration`."
   ]
  },
  {
   "cell_type": "code",
   "execution_count": 39,
   "metadata": {},
   "outputs": [],
   "source": [
    "df['length_of_stay_per_flight_duration'] = (df['length_of_stay']\n",
    "                                            / df['flight_duration'])"
   ]
  },
  {
   "cell_type": "markdown",
   "metadata": {},
   "source": [
    "Let's convert airports in route to they geodata."
   ]
  },
  {
   "cell_type": "code",
   "execution_count": 40,
   "metadata": {},
   "outputs": [],
   "source": [
    "airports = airportsdata.load('IATA')"
   ]
  },
  {
   "cell_type": "code",
   "execution_count": 41,
   "metadata": {},
   "outputs": [],
   "source": [
    "route_airports = np.concatenate(\n",
    "    (df['route_origin'].unique(), df['route_destination'].unique())\n",
    ")"
   ]
  },
  {
   "cell_type": "code",
   "execution_count": 42,
   "metadata": {},
   "outputs": [
    {
     "data": {
      "text/plain": [
       "{'AKL': (-37.0081, 174.79201),\n",
       " 'AOR': (6.18967, 100.398),\n",
       " 'BBI': (20.2444, 85.8178),\n",
       " 'BDO': (-6.90063, 107.576),\n",
       " 'BKI': (5.93721, 116.051),\n",
       " 'BLR': (13.1979, 77.7063),\n",
       " 'BOM': (19.0887, 72.8679),\n",
       " 'BTJ': (5.52352, 95.4204),\n",
       " 'BTU': (3.12385, 113.02),\n",
       " 'BWN': (4.9442, 114.928),\n",
       " 'CAN': (23.3924, 113.299),\n",
       " 'CCU': (22.6547, 88.4467),\n",
       " 'CEB': (10.3075, 123.979),\n",
       " 'CGK': (-6.12557, 106.656),\n",
       " 'CKG': (29.7192, 106.642),\n",
       " 'CMB': (7.18076, 79.8841),\n",
       " 'CNX': (18.7668, 98.9626),\n",
       " 'COK': (10.152, 76.4019),\n",
       " 'CRK': (15.186, 120.56),\n",
       " 'CSX': (28.1892, 113.22),\n",
       " 'CTS': (42.7752, 141.692),\n",
       " 'CTU': (30.5785, 103.947),\n",
       " 'CXR': (11.9982, 109.219),\n",
       " 'DAC': (23.84335, 90.39778),\n",
       " 'DAD': (16.0439, 108.199),\n",
       " 'DEL': (28.5665, 77.1031),\n",
       " 'DMK': (13.9126, 100.607),\n",
       " 'DPS': (-8.74817, 115.167),\n",
       " 'GOI': (15.3808, 73.8314),\n",
       " 'HAN': (21.2212, 105.807),\n",
       " 'HDY': (6.93321, 100.393),\n",
       " 'HGH': (30.2295, 120.434),\n",
       " 'HKG': (22.3089, 113.915),\n",
       " 'HKT': (8.1132, 98.3169),\n",
       " 'HND': (35.5523, 139.78),\n",
       " 'HYD': (17.23132, 78.42986),\n",
       " 'ICN': (37.4691, 126.451),\n",
       " 'IKA': (35.4161, 51.1522),\n",
       " 'JED': (21.6796, 39.1565),\n",
       " 'JHB': (1.64131, 103.67),\n",
       " 'JOG': (-7.78818, 110.432),\n",
       " 'KBR': (6.16685, 102.293),\n",
       " 'KBV': (8.09912, 98.9862),\n",
       " 'KCH': (1.4847, 110.347),\n",
       " 'KHH': (22.5771, 120.35),\n",
       " 'KIX': (34.4273, 135.244),\n",
       " 'KLO': (11.6794, 122.376),\n",
       " 'KNO': (3.55806, 98.6717),\n",
       " 'KOS': (10.5797, 103.637),\n",
       " 'KTM': (27.6966, 85.3591),\n",
       " 'KWL': (25.2181, 110.039),\n",
       " 'LBU': (5.30068, 115.25),\n",
       " 'LGK': (6.32973, 99.7287),\n",
       " 'LOP': (-8.75732, 116.27667),\n",
       " 'LPQ': (19.8973, 102.161),\n",
       " 'MAA': (12.99001, 80.1693),\n",
       " 'MEL': (-37.6733, 144.843),\n",
       " 'MFM': (22.1496, 113.592),\n",
       " 'MLE': (4.19167, 73.52917),\n",
       " 'MNL': (14.5086, 121.02),\n",
       " 'MRU': (-20.4302, 57.6836),\n",
       " 'MYY': (4.32201, 113.987),\n",
       " 'NRT': (35.7647, 140.386),\n",
       " 'OOL': (-28.1644, 153.505),\n",
       " 'PEK': (40.0801, 116.585),\n",
       " 'PEN': (5.29714, 100.277),\n",
       " 'PER': (-31.9403, 115.967),\n",
       " 'PNH': (11.5466, 104.844),\n",
       " 'PNK': (-0.15071, 109.404),\n",
       " 'PUS': (35.1795, 128.938),\n",
       " 'PVG': (31.1434, 121.805),\n",
       " 'REP': (13.4107, 103.813),\n",
       " 'RGN': (16.9073, 96.1332),\n",
       " 'SBW': (2.2616, 111.985),\n",
       " 'SDK': (5.9009, 118.059),\n",
       " 'SGN': (10.8188, 106.652),\n",
       " 'SIN': (1.35019, 103.994),\n",
       " 'SRG': (-6.97273, 110.375),\n",
       " 'SUB': (-7.37983, 112.787),\n",
       " 'SYD': (-33.9461, 151.177),\n",
       " 'TGG': (5.38264, 103.103),\n",
       " 'TPE': (25.0777, 121.233),\n",
       " 'TRZ': (10.7654, 78.7097),\n",
       " 'TWU': (4.32016, 118.128),\n",
       " 'URT': (9.1326, 99.1356),\n",
       " 'KUL': (2.74558, 101.71),\n",
       " 'XIY': (34.4471, 108.752),\n",
       " 'WUH': (30.7838, 114.208),\n",
       " 'SZX': (22.6393, 113.811),\n",
       " 'VTZ': (17.7212, 83.2245),\n",
       " 'PDG': (-0.78692, 100.281),\n",
       " 'SWA': (23.4269, 116.762),\n",
       " 'UTP': (12.6799, 101.005),\n",
       " 'VTE': (17.9883, 102.563)}"
      ]
     },
     "execution_count": 42,
     "metadata": {},
     "output_type": "execute_result"
    }
   ],
   "source": [
    "route_coordinates = {}\n",
    "\n",
    "for airport in route_airports:\n",
    "    route_coordinates[airport] = (airports[airport]['lat'],\n",
    "                                  airports[airport]['lon'])\n",
    "\n",
    "route_coordinates"
   ]
  },
  {
   "cell_type": "code",
   "execution_count": 43,
   "metadata": {},
   "outputs": [
    {
     "data": {
      "text/html": [
       "<div>\n",
       "<style scoped>\n",
       "    .dataframe tbody tr th:only-of-type {\n",
       "        vertical-align: middle;\n",
       "    }\n",
       "\n",
       "    .dataframe tbody tr th {\n",
       "        vertical-align: top;\n",
       "    }\n",
       "\n",
       "    .dataframe thead th {\n",
       "        text-align: right;\n",
       "    }\n",
       "</style>\n",
       "<table border=\"1\" class=\"dataframe\">\n",
       "  <thead>\n",
       "    <tr style=\"text-align: right;\">\n",
       "      <th></th>\n",
       "      <th>route_origin_latitude</th>\n",
       "      <th>route_origin_longitude</th>\n",
       "    </tr>\n",
       "  </thead>\n",
       "  <tbody>\n",
       "    <tr>\n",
       "      <th>0</th>\n",
       "      <td>-37.0081</td>\n",
       "      <td>174.79201</td>\n",
       "    </tr>\n",
       "    <tr>\n",
       "      <th>1</th>\n",
       "      <td>-37.0081</td>\n",
       "      <td>174.79201</td>\n",
       "    </tr>\n",
       "    <tr>\n",
       "      <th>2</th>\n",
       "      <td>-37.0081</td>\n",
       "      <td>174.79201</td>\n",
       "    </tr>\n",
       "    <tr>\n",
       "      <th>3</th>\n",
       "      <td>-37.0081</td>\n",
       "      <td>174.79201</td>\n",
       "    </tr>\n",
       "    <tr>\n",
       "      <th>4</th>\n",
       "      <td>-37.0081</td>\n",
       "      <td>174.79201</td>\n",
       "    </tr>\n",
       "    <tr>\n",
       "      <th>...</th>\n",
       "      <td>...</td>\n",
       "      <td>...</td>\n",
       "    </tr>\n",
       "    <tr>\n",
       "      <th>49995</th>\n",
       "      <td>-31.9403</td>\n",
       "      <td>115.96700</td>\n",
       "    </tr>\n",
       "    <tr>\n",
       "      <th>49996</th>\n",
       "      <td>-31.9403</td>\n",
       "      <td>115.96700</td>\n",
       "    </tr>\n",
       "    <tr>\n",
       "      <th>49997</th>\n",
       "      <td>-31.9403</td>\n",
       "      <td>115.96700</td>\n",
       "    </tr>\n",
       "    <tr>\n",
       "      <th>49998</th>\n",
       "      <td>-31.9403</td>\n",
       "      <td>115.96700</td>\n",
       "    </tr>\n",
       "    <tr>\n",
       "      <th>49999</th>\n",
       "      <td>-31.9403</td>\n",
       "      <td>115.96700</td>\n",
       "    </tr>\n",
       "  </tbody>\n",
       "</table>\n",
       "<p>49281 rows × 2 columns</p>\n",
       "</div>"
      ],
      "text/plain": [
       "       route_origin_latitude  route_origin_longitude\n",
       "0                   -37.0081               174.79201\n",
       "1                   -37.0081               174.79201\n",
       "2                   -37.0081               174.79201\n",
       "3                   -37.0081               174.79201\n",
       "4                   -37.0081               174.79201\n",
       "...                      ...                     ...\n",
       "49995               -31.9403               115.96700\n",
       "49996               -31.9403               115.96700\n",
       "49997               -31.9403               115.96700\n",
       "49998               -31.9403               115.96700\n",
       "49999               -31.9403               115.96700\n",
       "\n",
       "[49281 rows x 2 columns]"
      ]
     },
     "execution_count": 43,
     "metadata": {},
     "output_type": "execute_result"
    }
   ],
   "source": [
    "def get_route_coordinates(airport):\n",
    "    lat = route_coordinates[airport][0]\n",
    "    lon = route_coordinates[airport][1]\n",
    "    return lat, lon\n",
    "\n",
    "\n",
    "df[['route_origin_latitude', 'route_origin_longitude']] = (\n",
    "    df['route_origin'].apply(get_route_coordinates).apply(pd.Series)\n",
    ")\n",
    "\n",
    "df[['route_origin_latitude', 'route_origin_longitude']]"
   ]
  },
  {
   "cell_type": "code",
   "execution_count": 44,
   "metadata": {},
   "outputs": [],
   "source": [
    "df[['route_destination_latitude', 'route_destination_longitude']] = (\n",
    "    df['route_destination'].apply(get_route_coordinates).apply(pd.Series)\n",
    ")"
   ]
  },
  {
   "cell_type": "code",
   "execution_count": 45,
   "metadata": {},
   "outputs": [],
   "source": [
    "del df['route_destination'], df['route_origin']"
   ]
  },
  {
   "cell_type": "code",
   "execution_count": 46,
   "metadata": {},
   "outputs": [],
   "source": [
    "X, y = df.drop('booking_complete', axis=1), df['booking_complete']\n",
    "\n",
    "X_train, X_test, y_train, y_test = train_test_split(\n",
    "    X, y, test_size=0.2, random_state=24, stratify=y\n",
    ")\n",
    "\n",
    "categorical_features = X_train.select_dtypes('object').columns.to_list()"
   ]
  },
  {
   "cell_type": "code",
   "execution_count": 47,
   "metadata": {},
   "outputs": [
    {
     "name": "stdout",
     "output_type": "stream",
     "text": [
      "roc_auc score: 0.7868113827010081\n",
      "              precision    recall  f1-score   support\n",
      "\n",
      "           0       0.93      0.69      0.79      8379\n",
      "           1       0.29      0.73      0.42      1478\n",
      "\n",
      "    accuracy                           0.69      9857\n",
      "   macro avg       0.61      0.71      0.60      9857\n",
      "weighted avg       0.84      0.69      0.74      9857\n",
      "\n"
     ]
    },
    {
     "data": {
      "image/png": "[encoded data removed]",
      "text/plain": [
       "<Figure size 500x300 with 2 Axes>"
      ]
     },
     "metadata": {},
     "output_type": "display_data"
    }
   ],
   "source": [
    "model = make_pipeline(\n",
    "    make_column_transformer(\n",
    "        (OneHotEncoder(handle_unknown='ignore'), categorical_features),\n",
    "        remainder='passthrough',\n",
    "        verbose_feature_names_out=False,\n",
    "    ),\n",
    "    RandomForestClassifier(max_depth=8,\n",
    "                           random_state=24,\n",
    "                           class_weight=class_weight),\n",
    ")\n",
    "\n",
    "train_model(model, X_train, y_train)\n",
    "\n",
    "model.fit(X_train, y_train)\n",
    "predict = model.predict(X_test)\n",
    "\n",
    "print(classification_report(y_test, predict))\n",
    "\n",
    "plt.rcParams['figure.figsize'] = (5, 3)\n",
    "\n",
    "cmap = sns.light_palette(COLOR_PLOT, as_cmap=True)\n",
    "ConfusionMatrixDisplay.from_estimator(model, X_test, y_test,\n",
    "                                      normalize='true',\n",
    "                                      display_labels=['No', 'Yes'],\n",
    "                                      cmap=cmap)\n",
    "\n",
    "plt.show()"
   ]
  },
  {
   "cell_type": "code",
   "execution_count": 48,
   "metadata": {},
   "outputs": [
    {
     "data": {
      "image/png": "[encoded data removed]",
      "text/plain": [
       "<Figure size 600x500 with 1 Axes>"
      ]
     },
     "metadata": {},
     "output_type": "display_data"
    }
   ],
   "source": [
    "explanation = eli5.explain_weights(\n",
    "    model[1], top=15, feature_names=model[0].get_feature_names_out()\n",
    ")\n",
    "df_feature_importance = eli5.format_as_dataframe(explanation)\n",
    "\n",
    "plt.figure(figsize=(6, 5))\n",
    "plt.title('Feature Importance', loc='left')\n",
    "ax = sns.barplot(df_feature_importance,\n",
    "                 y='feature', x='weight',\n",
    "                 color=COLOR_PLOT)\n",
    "ax.spines[['top', 'right']].set_visible(False)\n",
    "\n",
    "plt.show()"
   ]
  }
 ],
 "metadata": {
  "kernelspec": {
   "display_name": "Python 3.9.13 ('venv': venv)",
   "language": "python",
   "name": "python3"
  },
  "language_info": {
   "codemirror_mode": {
    "name": "ipython",
    "version": 3
   },
   "file_extension": ".py",
   "mimetype": "text/x-python",
   "name": "python",
   "nbconvert_exporter": "python",
   "pygments_lexer": "ipython3",
   "version": "3.10.13"
  },
  "orig_nbformat": 4,
  "vscode": {
   "interpreter": {
    "hash": "4f7924c4c56b083e0e50eadfe7ef592a7a8ef70df33a0047f82280e6be1afe15"
   }
  }
 },
 "nbformat": 4,
 "nbformat_minor": 2
}
